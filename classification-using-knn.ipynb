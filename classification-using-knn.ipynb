{
 "cells": [
  {
   "cell_type": "markdown",
   "id": "7c20c6d0",
   "metadata": {
    "papermill": {
     "duration": 0.023488,
     "end_time": "2022-01-13T05:20:56.600161",
     "exception": false,
     "start_time": "2022-01-13T05:20:56.576673",
     "status": "completed"
    },
    "tags": []
   },
   "source": [
    "# Lets load data"
   ]
  },
  {
   "cell_type": "code",
   "execution_count": 1,
   "id": "248ab4e9",
   "metadata": {
    "execution": {
     "iopub.execute_input": "2022-01-13T05:20:56.652587Z",
     "iopub.status.busy": "2022-01-13T05:20:56.651900Z",
     "iopub.status.idle": "2022-01-13T05:20:56.687139Z",
     "shell.execute_reply": "2022-01-13T05:20:56.687949Z",
     "shell.execute_reply.started": "2022-01-13T04:22:13.756951Z"
    },
    "papermill": {
     "duration": 0.066457,
     "end_time": "2022-01-13T05:20:56.688347",
     "exception": false,
     "start_time": "2022-01-13T05:20:56.621890",
     "status": "completed"
    },
    "tags": []
   },
   "outputs": [
    {
     "name": "stdout",
     "output_type": "stream",
     "text": [
      "           age   interest  success\n",
      "0    23.657801  18.859917      0.0\n",
      "1    22.573729  17.969223      0.0\n",
      "2    32.553424  29.463651      0.0\n",
      "3     6.718035  25.704665      1.0\n",
      "4    14.401919  16.770856      0.0\n",
      "..         ...        ...      ...\n",
      "292  27.697220  18.799309      0.0\n",
      "293  15.150959  72.000352      1.0\n",
      "294  22.264378  68.453459      1.0\n",
      "295  25.677420  90.118212      1.0\n",
      "296  21.215594  48.265520      1.0\n",
      "\n",
      "[297 rows x 3 columns]\n"
     ]
    }
   ],
   "source": [
    "import pandas as pd\n",
    "data = pd.read_csv(\"../input/beginners-classification-dataset/classification.csv\")\n",
    "print(data)"
   ]
  },
  {
   "cell_type": "markdown",
   "id": "b8a0b610",
   "metadata": {
    "papermill": {
     "duration": 0.021525,
     "end_time": "2022-01-13T05:20:56.733795",
     "exception": false,
     "start_time": "2022-01-13T05:20:56.712270",
     "status": "completed"
    },
    "tags": []
   },
   "source": [
    "**Why you want to apply classification on selected dataset? **\n",
    "\n",
    "\n",
    "Dataset is having age and interest from which we can predict the success So in this case weather person will be successfull or not so i think KNN fits better."
   ]
  },
  {
   "cell_type": "markdown",
   "id": "e283fe0c",
   "metadata": {
    "papermill": {
     "duration": 0.021413,
     "end_time": "2022-01-13T05:20:56.776996",
     "exception": false,
     "start_time": "2022-01-13T05:20:56.755583",
     "status": "completed"
    },
    "tags": []
   },
   "source": [
    "**How many total observations in data?**\n",
    "\n",
    "297 total observations"
   ]
  },
  {
   "cell_type": "markdown",
   "id": "1a667494",
   "metadata": {
    "papermill": {
     "duration": 0.021473,
     "end_time": "2022-01-13T05:20:56.820212",
     "exception": false,
     "start_time": "2022-01-13T05:20:56.798739",
     "status": "completed"
    },
    "tags": []
   },
   "source": [
    "**How many independent variables?**\n",
    "\n",
    "There are two independent variables Age and Interest"
   ]
  },
  {
   "cell_type": "markdown",
   "id": "f214cf15",
   "metadata": {
    "papermill": {
     "duration": 0.022615,
     "end_time": "2022-01-13T05:20:56.865572",
     "exception": false,
     "start_time": "2022-01-13T05:20:56.842957",
     "status": "completed"
    },
    "tags": []
   },
   "source": [
    "**Which is dependent variable?**\n",
    "\n",
    "Success is dependent variable\n",
    "\n"
   ]
  },
  {
   "cell_type": "markdown",
   "id": "920b0069",
   "metadata": {
    "papermill": {
     "duration": 0.021649,
     "end_time": "2022-01-13T05:20:56.909826",
     "exception": false,
     "start_time": "2022-01-13T05:20:56.888177",
     "status": "completed"
    },
    "tags": []
   },
   "source": [
    "**Which are most useful variable in classification? Prove using correlation**\n",
    "\n",
    "\n",
    "Here there are two independent variable where intrest is most useful for classification of success which is shown below by correlation."
   ]
  },
  {
   "cell_type": "code",
   "execution_count": 2,
   "id": "629fd0b5",
   "metadata": {
    "execution": {
     "iopub.execute_input": "2022-01-13T05:20:56.958456Z",
     "iopub.status.busy": "2022-01-13T05:20:56.957791Z",
     "iopub.status.idle": "2022-01-13T05:20:56.975469Z",
     "shell.execute_reply": "2022-01-13T05:20:56.974918Z",
     "shell.execute_reply.started": "2022-01-13T04:30:03.178194Z"
    },
    "papermill": {
     "duration": 0.043501,
     "end_time": "2022-01-13T05:20:56.975619",
     "exception": false,
     "start_time": "2022-01-13T05:20:56.932118",
     "status": "completed"
    },
    "tags": []
   },
   "outputs": [
    {
     "data": {
      "text/html": [
       "<div>\n",
       "<style scoped>\n",
       "    .dataframe tbody tr th:only-of-type {\n",
       "        vertical-align: middle;\n",
       "    }\n",
       "\n",
       "    .dataframe tbody tr th {\n",
       "        vertical-align: top;\n",
       "    }\n",
       "\n",
       "    .dataframe thead th {\n",
       "        text-align: right;\n",
       "    }\n",
       "</style>\n",
       "<table border=\"1\" class=\"dataframe\">\n",
       "  <thead>\n",
       "    <tr style=\"text-align: right;\">\n",
       "      <th></th>\n",
       "      <th>age</th>\n",
       "      <th>interest</th>\n",
       "      <th>success</th>\n",
       "    </tr>\n",
       "  </thead>\n",
       "  <tbody>\n",
       "    <tr>\n",
       "      <th>age</th>\n",
       "      <td>1.000000</td>\n",
       "      <td>0.142876</td>\n",
       "      <td>0.173307</td>\n",
       "    </tr>\n",
       "    <tr>\n",
       "      <th>interest</th>\n",
       "      <td>0.142876</td>\n",
       "      <td>1.000000</td>\n",
       "      <td>0.760703</td>\n",
       "    </tr>\n",
       "    <tr>\n",
       "      <th>success</th>\n",
       "      <td>0.173307</td>\n",
       "      <td>0.760703</td>\n",
       "      <td>1.000000</td>\n",
       "    </tr>\n",
       "  </tbody>\n",
       "</table>\n",
       "</div>"
      ],
      "text/plain": [
       "               age  interest   success\n",
       "age       1.000000  0.142876  0.173307\n",
       "interest  0.142876  1.000000  0.760703\n",
       "success   0.173307  0.760703  1.000000"
      ]
     },
     "execution_count": 2,
     "metadata": {},
     "output_type": "execute_result"
    }
   ],
   "source": [
    "data.corr()"
   ]
  },
  {
   "cell_type": "markdown",
   "id": "82748625",
   "metadata": {
    "papermill": {
     "duration": 0.021704,
     "end_time": "2022-01-13T05:20:57.021987",
     "exception": false,
     "start_time": "2022-01-13T05:20:57.000283",
     "status": "completed"
    },
    "tags": []
   },
   "source": [
    "# Data Preparation"
   ]
  },
  {
   "cell_type": "markdown",
   "id": "66f1d207",
   "metadata": {
    "papermill": {
     "duration": 0.021712,
     "end_time": "2022-01-13T05:20:57.065812",
     "exception": false,
     "start_time": "2022-01-13T05:20:57.044100",
     "status": "completed"
    },
    "tags": []
   },
   "source": [
    "**Finding Missing Values**"
   ]
  },
  {
   "cell_type": "code",
   "execution_count": 3,
   "id": "b453d579",
   "metadata": {
    "execution": {
     "iopub.execute_input": "2022-01-13T05:20:57.124011Z",
     "iopub.status.busy": "2022-01-13T05:20:57.123306Z",
     "iopub.status.idle": "2022-01-13T05:20:57.127084Z",
     "shell.execute_reply": "2022-01-13T05:20:57.126572Z",
     "shell.execute_reply.started": "2022-01-13T04:36:49.301233Z"
    },
    "papermill": {
     "duration": 0.038437,
     "end_time": "2022-01-13T05:20:57.127230",
     "exception": false,
     "start_time": "2022-01-13T05:20:57.088793",
     "status": "completed"
    },
    "tags": []
   },
   "outputs": [
    {
     "data": {
      "text/html": [
       "<div>\n",
       "<style scoped>\n",
       "    .dataframe tbody tr th:only-of-type {\n",
       "        vertical-align: middle;\n",
       "    }\n",
       "\n",
       "    .dataframe tbody tr th {\n",
       "        vertical-align: top;\n",
       "    }\n",
       "\n",
       "    .dataframe thead th {\n",
       "        text-align: right;\n",
       "    }\n",
       "</style>\n",
       "<table border=\"1\" class=\"dataframe\">\n",
       "  <thead>\n",
       "    <tr style=\"text-align: right;\">\n",
       "      <th></th>\n",
       "      <th>age</th>\n",
       "      <th>interest</th>\n",
       "      <th>success</th>\n",
       "    </tr>\n",
       "  </thead>\n",
       "  <tbody>\n",
       "    <tr>\n",
       "      <th>0</th>\n",
       "      <td>23.657801</td>\n",
       "      <td>18.859917</td>\n",
       "      <td>0.0</td>\n",
       "    </tr>\n",
       "    <tr>\n",
       "      <th>1</th>\n",
       "      <td>22.573729</td>\n",
       "      <td>17.969223</td>\n",
       "      <td>0.0</td>\n",
       "    </tr>\n",
       "    <tr>\n",
       "      <th>2</th>\n",
       "      <td>32.553424</td>\n",
       "      <td>29.463651</td>\n",
       "      <td>0.0</td>\n",
       "    </tr>\n",
       "    <tr>\n",
       "      <th>3</th>\n",
       "      <td>6.718035</td>\n",
       "      <td>25.704665</td>\n",
       "      <td>1.0</td>\n",
       "    </tr>\n",
       "    <tr>\n",
       "      <th>4</th>\n",
       "      <td>14.401919</td>\n",
       "      <td>16.770856</td>\n",
       "      <td>0.0</td>\n",
       "    </tr>\n",
       "  </tbody>\n",
       "</table>\n",
       "</div>"
      ],
      "text/plain": [
       "         age   interest  success\n",
       "0  23.657801  18.859917      0.0\n",
       "1  22.573729  17.969223      0.0\n",
       "2  32.553424  29.463651      0.0\n",
       "3   6.718035  25.704665      1.0\n",
       "4  14.401919  16.770856      0.0"
      ]
     },
     "execution_count": 3,
     "metadata": {},
     "output_type": "execute_result"
    }
   ],
   "source": [
    "data.head()"
   ]
  },
  {
   "cell_type": "code",
   "execution_count": 4,
   "id": "2f9fa76c",
   "metadata": {
    "execution": {
     "iopub.execute_input": "2022-01-13T05:20:57.175903Z",
     "iopub.status.busy": "2022-01-13T05:20:57.175281Z",
     "iopub.status.idle": "2022-01-13T05:20:57.182522Z",
     "shell.execute_reply": "2022-01-13T05:20:57.183076Z",
     "shell.execute_reply.started": "2022-01-13T04:37:12.09983Z"
    },
    "papermill": {
     "duration": 0.033159,
     "end_time": "2022-01-13T05:20:57.183250",
     "exception": false,
     "start_time": "2022-01-13T05:20:57.150091",
     "status": "completed"
    },
    "tags": []
   },
   "outputs": [
    {
     "data": {
      "text/plain": [
       "age         0\n",
       "interest    0\n",
       "success     0\n",
       "dtype: int64"
      ]
     },
     "execution_count": 4,
     "metadata": {},
     "output_type": "execute_result"
    }
   ],
   "source": [
    "data.isnull().sum()"
   ]
  },
  {
   "cell_type": "markdown",
   "id": "01a0dd58",
   "metadata": {
    "papermill": {
     "duration": 0.022635,
     "end_time": "2022-01-13T05:20:57.228897",
     "exception": false,
     "start_time": "2022-01-13T05:20:57.206262",
     "status": "completed"
    },
    "tags": []
   },
   "source": [
    "**Age Column**"
   ]
  },
  {
   "cell_type": "code",
   "execution_count": 5,
   "id": "4529da51",
   "metadata": {
    "execution": {
     "iopub.execute_input": "2022-01-13T05:20:57.277868Z",
     "iopub.status.busy": "2022-01-13T05:20:57.277232Z",
     "iopub.status.idle": "2022-01-13T05:20:58.603983Z",
     "shell.execute_reply": "2022-01-13T05:20:58.603425Z",
     "shell.execute_reply.started": "2022-01-13T04:40:32.060088Z"
    },
    "papermill": {
     "duration": 1.352281,
     "end_time": "2022-01-13T05:20:58.604133",
     "exception": false,
     "start_time": "2022-01-13T05:20:57.251852",
     "status": "completed"
    },
    "tags": []
   },
   "outputs": [
    {
     "data": {
      "text/plain": [
       "Text(0.5, 1.0, 'Age Distribution')"
      ]
     },
     "execution_count": 5,
     "metadata": {},
     "output_type": "execute_result"
    },
    {
     "data": {
      "image/png": "[encoded data removed]",
      "text/plain": [
       "<Figure size 432x288 with 1 Axes>"
      ]
     },
     "metadata": {},
     "output_type": "display_data"
    }
   ],
   "source": [
    "import seaborn as sns\n",
    "import matplotlib.pyplot as plt\n",
    "sns.set_theme(style=\"whitegrid\")\n",
    "sns.boxplot(x=\"age\", data=data, palette=\"Set3\")\n",
    "plt.title(\"Age Distribution\")"
   ]
  },
  {
   "cell_type": "code",
   "execution_count": 6,
   "id": "3508dfc3",
   "metadata": {
    "execution": {
     "iopub.execute_input": "2022-01-13T05:20:58.655846Z",
     "iopub.status.busy": "2022-01-13T05:20:58.655126Z",
     "iopub.status.idle": "2022-01-13T05:20:58.661885Z",
     "shell.execute_reply": "2022-01-13T05:20:58.662388Z",
     "shell.execute_reply.started": "2022-01-13T04:41:22.800122Z"
    },
    "papermill": {
     "duration": 0.034104,
     "end_time": "2022-01-13T05:20:58.662575",
     "exception": false,
     "start_time": "2022-01-13T05:20:58.628471",
     "status": "completed"
    },
    "tags": []
   },
   "outputs": [
    {
     "data": {
      "text/plain": [
       "(2.3475599373326848, 45.773728755936816)"
      ]
     },
     "execution_count": 6,
     "metadata": {},
     "output_type": "execute_result"
    }
   ],
   "source": [
    "data.age.min(), data.age.max()"
   ]
  },
  {
   "cell_type": "markdown",
   "id": "0f2c5c16",
   "metadata": {
    "papermill": {
     "duration": 0.024648,
     "end_time": "2022-01-13T05:20:58.711696",
     "exception": false,
     "start_time": "2022-01-13T05:20:58.687048",
     "status": "completed"
    },
    "tags": []
   },
   "source": [
    "**Interest Column**"
   ]
  },
  {
   "cell_type": "code",
   "execution_count": 7,
   "id": "6488de7c",
   "metadata": {
    "execution": {
     "iopub.execute_input": "2022-01-13T05:20:58.785345Z",
     "iopub.status.busy": "2022-01-13T05:20:58.784661Z",
     "iopub.status.idle": "2022-01-13T05:20:59.009220Z",
     "shell.execute_reply": "2022-01-13T05:20:59.009718Z",
     "shell.execute_reply.started": "2022-01-13T04:42:41.220053Z"
    },
    "papermill": {
     "duration": 0.273656,
     "end_time": "2022-01-13T05:20:59.009912",
     "exception": false,
     "start_time": "2022-01-13T05:20:58.736256",
     "status": "completed"
    },
    "tags": []
   },
   "outputs": [
    {
     "data": {
      "text/plain": [
       "Text(0.5, 1.0, 'Interests Distribution')"
      ]
     },
     "execution_count": 7,
     "metadata": {},
     "output_type": "execute_result"
    },
    {
     "data": {
      "image/png": "[encoded data removed]",
      "text/plain": [
       "<Figure size 432x288 with 1 Axes>"
      ]
     },
     "metadata": {},
     "output_type": "display_data"
    }
   ],
   "source": [
    "sns.set_theme(style=\"whitegrid\")\n",
    "sns.boxplot(x=\"interest\", data=data, palette=\"Set1\")\n",
    "plt.title(\"Interests Distribution\")"
   ]
  },
  {
   "cell_type": "code",
   "execution_count": 8,
   "id": "384bd8ad",
   "metadata": {
    "execution": {
     "iopub.execute_input": "2022-01-13T05:20:59.067919Z",
     "iopub.status.busy": "2022-01-13T05:20:59.066994Z",
     "iopub.status.idle": "2022-01-13T05:20:59.070337Z",
     "shell.execute_reply": "2022-01-13T05:20:59.070849Z",
     "shell.execute_reply.started": "2022-01-13T04:43:28.760712Z"
    },
    "papermill": {
     "duration": 0.035572,
     "end_time": "2022-01-13T05:20:59.071030",
     "exception": false,
     "start_time": "2022-01-13T05:20:59.035458",
     "status": "completed"
    },
    "tags": []
   },
   "outputs": [
    {
     "data": {
      "text/plain": [
       "(-0.8528003102534427, 97.1755075384403)"
      ]
     },
     "execution_count": 8,
     "metadata": {},
     "output_type": "execute_result"
    }
   ],
   "source": [
    "data.interest.min(), data.interest.max()"
   ]
  },
  {
   "cell_type": "markdown",
   "id": "74ed54d7",
   "metadata": {
    "papermill": {
     "duration": 0.025333,
     "end_time": "2022-01-13T05:20:59.121961",
     "exception": false,
     "start_time": "2022-01-13T05:20:59.096628",
     "status": "completed"
    },
    "tags": []
   },
   "source": [
    "**Success**"
   ]
  },
  {
   "cell_type": "code",
   "execution_count": 9,
   "id": "4adfb9f3",
   "metadata": {
    "execution": {
     "iopub.execute_input": "2022-01-13T05:20:59.177058Z",
     "iopub.status.busy": "2022-01-13T05:20:59.176079Z",
     "iopub.status.idle": "2022-01-13T05:20:59.186552Z",
     "shell.execute_reply": "2022-01-13T05:20:59.187074Z",
     "shell.execute_reply.started": "2022-01-13T04:45:48.899315Z"
    },
    "papermill": {
     "duration": 0.039521,
     "end_time": "2022-01-13T05:20:59.187245",
     "exception": false,
     "start_time": "2022-01-13T05:20:59.147724",
     "status": "completed"
    },
    "tags": []
   },
   "outputs": [
    {
     "data": {
      "text/plain": [
       "array([0., 1.])"
      ]
     },
     "execution_count": 9,
     "metadata": {},
     "output_type": "execute_result"
    }
   ],
   "source": [
    "data.success.unique()"
   ]
  },
  {
   "cell_type": "code",
   "execution_count": 10,
   "id": "4f431b22",
   "metadata": {
    "execution": {
     "iopub.execute_input": "2022-01-13T05:20:59.246621Z",
     "iopub.status.busy": "2022-01-13T05:20:59.245912Z",
     "iopub.status.idle": "2022-01-13T05:20:59.479242Z",
     "shell.execute_reply": "2022-01-13T05:20:59.479785Z",
     "shell.execute_reply.started": "2022-01-13T04:46:19.159615Z"
    },
    "papermill": {
     "duration": 0.266956,
     "end_time": "2022-01-13T05:20:59.479977",
     "exception": false,
     "start_time": "2022-01-13T05:20:59.213021",
     "status": "completed"
    },
    "tags": []
   },
   "outputs": [
    {
     "data": {
      "text/plain": [
       "Text(0.5, 1.0, 'Success ')"
      ]
     },
     "execution_count": 10,
     "metadata": {},
     "output_type": "execute_result"
    },
    {
     "data": {
      "image/png": "[encoded data removed]",
      "text/plain": [
       "<Figure size 432x288 with 1 Axes>"
      ]
     },
     "metadata": {},
     "output_type": "display_data"
    }
   ],
   "source": [
    "data.success.value_counts().plot(kind='bar')\n",
    "plt.xlabel(\"Success or Not\")\n",
    "plt.ylabel(\"Count\")\n",
    "plt.title(\"Success \")"
   ]
  },
  {
   "cell_type": "code",
   "execution_count": 11,
   "id": "a60b9be8",
   "metadata": {
    "execution": {
     "iopub.execute_input": "2022-01-13T05:20:59.572109Z",
     "iopub.status.busy": "2022-01-13T05:20:59.571213Z",
     "iopub.status.idle": "2022-01-13T05:20:59.912662Z",
     "shell.execute_reply": "2022-01-13T05:20:59.911358Z",
     "shell.execute_reply.started": "2022-01-13T04:46:59.730052Z"
    },
    "papermill": {
     "duration": 0.405698,
     "end_time": "2022-01-13T05:20:59.912824",
     "exception": false,
     "start_time": "2022-01-13T05:20:59.507126",
     "status": "completed"
    },
    "tags": []
   },
   "outputs": [
    {
     "data": {
      "text/plain": [
       "<AxesSubplot:xlabel='age', ylabel='interest'>"
      ]
     },
     "execution_count": 11,
     "metadata": {},
     "output_type": "execute_result"
    },
    {
     "data": {
      "image/png": "[encoded data removed]",
      "text/plain": [
       "<Figure size 432x288 with 1 Axes>"
      ]
     },
     "metadata": {},
     "output_type": "display_data"
    }
   ],
   "source": [
    "sns.scatterplot(data=data, x=\"age\", y=\"interest\", hue=\"success\")"
   ]
  },
  {
   "cell_type": "markdown",
   "id": "fdcf8d77",
   "metadata": {
    "papermill": {
     "duration": 0.029294,
     "end_time": "2022-01-13T05:20:59.971826",
     "exception": false,
     "start_time": "2022-01-13T05:20:59.942532",
     "status": "completed"
    },
    "tags": []
   },
   "source": [
    "# Model Preparation and Prediction"
   ]
  },
  {
   "cell_type": "markdown",
   "id": "a7dac7f2",
   "metadata": {
    "papermill": {
     "duration": 0.029547,
     "end_time": "2022-01-13T05:21:00.030695",
     "exception": false,
     "start_time": "2022-01-13T05:21:00.001148",
     "status": "completed"
    },
    "tags": []
   },
   "source": [
    "**Implement KNN using sklearn api**\n",
    "\n"
   ]
  },
  {
   "cell_type": "code",
   "execution_count": 12,
   "id": "9c9bd4ad",
   "metadata": {
    "execution": {
     "iopub.execute_input": "2022-01-13T05:21:00.094858Z",
     "iopub.status.busy": "2022-01-13T05:21:00.093991Z",
     "iopub.status.idle": "2022-01-13T05:21:00.410773Z",
     "shell.execute_reply": "2022-01-13T05:21:00.411275Z",
     "shell.execute_reply.started": "2022-01-13T04:51:04.559965Z"
    },
    "papermill": {
     "duration": 0.351596,
     "end_time": "2022-01-13T05:21:00.411494",
     "exception": false,
     "start_time": "2022-01-13T05:21:00.059898",
     "status": "completed"
    },
    "tags": []
   },
   "outputs": [],
   "source": [
    "from sklearn.model_selection import train_test_split\n",
    "from sklearn.metrics import accuracy_score\n",
    "from sklearn.neighbors import KNeighborsClassifier"
   ]
  },
  {
   "cell_type": "code",
   "execution_count": 13,
   "id": "00ee37bd",
   "metadata": {
    "execution": {
     "iopub.execute_input": "2022-01-13T05:21:00.477052Z",
     "iopub.status.busy": "2022-01-13T05:21:00.476282Z",
     "iopub.status.idle": "2022-01-13T05:21:00.481062Z",
     "shell.execute_reply": "2022-01-13T05:21:00.481529Z",
     "shell.execute_reply.started": "2022-01-13T04:52:19.799633Z"
    },
    "papermill": {
     "duration": 0.04105,
     "end_time": "2022-01-13T05:21:00.481704",
     "exception": false,
     "start_time": "2022-01-13T05:21:00.440654",
     "status": "completed"
    },
    "tags": []
   },
   "outputs": [],
   "source": [
    "X = data[[\"age\",\"interest\"]]\n",
    "Y = data[\"success\"]\n",
    "X_train, X_test, y_train, y_test = train_test_split(X, Y, test_size=0.20, random_state=45)"
   ]
  },
  {
   "cell_type": "code",
   "execution_count": 14,
   "id": "3ad806ec",
   "metadata": {
    "execution": {
     "iopub.execute_input": "2022-01-13T05:21:00.543262Z",
     "iopub.status.busy": "2022-01-13T05:21:00.542245Z",
     "iopub.status.idle": "2022-01-13T05:21:00.554041Z",
     "shell.execute_reply": "2022-01-13T05:21:00.554510Z",
     "shell.execute_reply.started": "2022-01-13T04:55:06.673791Z"
    },
    "papermill": {
     "duration": 0.044247,
     "end_time": "2022-01-13T05:21:00.554692",
     "exception": false,
     "start_time": "2022-01-13T05:21:00.510445",
     "status": "completed"
    },
    "tags": []
   },
   "outputs": [
    {
     "data": {
      "text/plain": [
       "KNeighborsClassifier()"
      ]
     },
     "execution_count": 14,
     "metadata": {},
     "output_type": "execute_result"
    }
   ],
   "source": [
    "neigh = KNeighborsClassifier(n_neighbors=5)\n",
    "neigh.fit(X_train, y_train)"
   ]
  },
  {
   "cell_type": "code",
   "execution_count": 15,
   "id": "6b17dfe4",
   "metadata": {
    "execution": {
     "iopub.execute_input": "2022-01-13T05:21:00.621577Z",
     "iopub.status.busy": "2022-01-13T05:21:00.620523Z",
     "iopub.status.idle": "2022-01-13T05:21:00.628535Z",
     "shell.execute_reply": "2022-01-13T05:21:00.628982Z",
     "shell.execute_reply.started": "2022-01-13T04:55:11.29926Z"
    },
    "papermill": {
     "duration": 0.044973,
     "end_time": "2022-01-13T05:21:00.629165",
     "exception": false,
     "start_time": "2022-01-13T05:21:00.584192",
     "status": "completed"
    },
    "tags": []
   },
   "outputs": [
    {
     "data": {
      "text/plain": [
       "array([1., 0., 0., 0., 0., 1., 1., 1., 0., 1., 0., 0., 1., 1., 1., 1., 0.,\n",
       "       0., 0., 0., 0., 0., 1., 1., 0., 1., 1., 0., 1., 1., 0., 1., 1., 0.,\n",
       "       1., 0., 0., 0., 0., 1., 0., 0., 1., 0., 1., 1., 1., 1., 1., 0., 1.,\n",
       "       1., 0., 1., 1., 1., 1., 0., 1., 0.])"
      ]
     },
     "execution_count": 15,
     "metadata": {},
     "output_type": "execute_result"
    }
   ],
   "source": [
    "y_pred = neigh.predict(X_test)\n",
    "y_pred"
   ]
  },
  {
   "cell_type": "code",
   "execution_count": 16,
   "id": "4627e072",
   "metadata": {
    "execution": {
     "iopub.execute_input": "2022-01-13T05:21:00.692252Z",
     "iopub.status.busy": "2022-01-13T05:21:00.691305Z",
     "iopub.status.idle": "2022-01-13T05:21:00.697366Z",
     "shell.execute_reply": "2022-01-13T05:21:00.697809Z",
     "shell.execute_reply.started": "2022-01-13T04:55:16.568994Z"
    },
    "papermill": {
     "duration": 0.039224,
     "end_time": "2022-01-13T05:21:00.698004",
     "exception": false,
     "start_time": "2022-01-13T05:21:00.658780",
     "status": "completed"
    },
    "tags": []
   },
   "outputs": [
    {
     "data": {
      "text/plain": [
       "0.9333333333333333"
      ]
     },
     "execution_count": 16,
     "metadata": {},
     "output_type": "execute_result"
    }
   ],
   "source": [
    "accuracy_score(y_test,y_pred)"
   ]
  },
  {
   "cell_type": "markdown",
   "id": "ed4c85ed",
   "metadata": {
    "papermill": {
     "duration": 0.029475,
     "end_time": "2022-01-13T05:21:00.757181",
     "exception": false,
     "start_time": "2022-01-13T05:21:00.727706",
     "status": "completed"
    },
    "tags": []
   },
   "source": [
    "**Quantify goodness of your model and discuss steps taken for improvement**\n",
    "\n",
    "Here we have achieved accuracy of 93%. When value of K was 2 we were getting 85% and by increasing value of K to 5 we got 93%."
   ]
  },
  {
   "cell_type": "markdown",
   "id": "4d7bc426",
   "metadata": {
    "papermill": {
     "duration": 0.029903,
     "end_time": "2022-01-13T05:21:00.817255",
     "exception": false,
     "start_time": "2022-01-13T05:21:00.787352",
     "status": "completed"
    },
    "tags": []
   },
   "source": [
    "**Can we use KNN for regression also? Why / Why not?**\n",
    "\n",
    "KNN algorithm can be used for both classification and regression problems. The KNN algorithm uses ‘feature similarity’ to predict the values of any new data points. This means that the new point is assigned a value based on how closely it resembles the points in the training set."
   ]
  },
  {
   "cell_type": "markdown",
   "id": "605c8905",
   "metadata": {
    "papermill": {
     "duration": 0.029774,
     "end_time": "2022-01-13T05:21:00.877082",
     "exception": false,
     "start_time": "2022-01-13T05:21:00.847308",
     "status": "completed"
    },
    "tags": []
   },
   "source": [
    "**Discuss drawbacks of algorithms such as KNN.**\n",
    "\n",
    "*Accuracy depends on the quality of the data\n",
    "\n",
    "*With large data, the prediction stage might be slow\n",
    "\n",
    "*Sensitive to the scale of the data and irrelevant features\n",
    "\n",
    "*Require high memory – need to store all of the training data\n",
    "\n",
    "*Given that it stores all of the training, it can be computationally expensive"
   ]
  },
  {
   "cell_type": "markdown",
   "id": "171116ea",
   "metadata": {
    "papermill": {
     "duration": 0.029659,
     "end_time": "2022-01-13T05:21:00.937013",
     "exception": false,
     "start_time": "2022-01-13T05:21:00.907354",
     "status": "completed"
    },
    "tags": []
   },
   "source": [
    "**Thank You**"
   ]
  }
 ],
 "metadata": {
  "kernelspec": {
   "display_name": "Python 3",
   "language": "python",
   "name": "python3"
  },
  "language_info": {
   "codemirror_mode": {
    "name": "ipython",
    "version": 3
   },
   "file_extension": ".py",
   "mimetype": "text/x-python",
   "name": "python",
   "nbconvert_exporter": "python",
   "pygments_lexer": "ipython3",
   "version": "3.7.12"
  },
  "papermill": {
   "default_parameters": {},
   "duration": 15.396716,
   "end_time": "2022-01-13T05:21:01.677014",
   "environment_variables": {},
   "exception": null,
   "input_path": "__notebook__.ipynb",
   "output_path": "__notebook__.ipynb",
   "parameters": {},
   "start_time": "2022-01-13T05:20:46.280298",
   "version": "2.3.3"
  }
 },
 "nbformat": 4,
 "nbformat_minor": 5
}
