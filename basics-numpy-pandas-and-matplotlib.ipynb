{
 "cells": [
  {
   "cell_type": "markdown",
   "id": "0552e57a",
   "metadata": {
    "papermill": {
     "duration": 0.032681,
     "end_time": "2022-01-11T14:24:42.052834",
     "exception": false,
     "start_time": "2022-01-11T14:24:42.020153",
     "status": "completed"
    },
    "tags": []
   },
   "source": [
    "# Numpy"
   ]
  },
  {
   "cell_type": "markdown",
   "id": "27f5ac1e",
   "metadata": {
    "papermill": {
     "duration": 0.030517,
     "end_time": "2022-01-11T14:24:42.114118",
     "exception": false,
     "start_time": "2022-01-11T14:24:42.083601",
     "status": "completed"
    },
    "tags": []
   },
   "source": [
    "Import Numpy"
   ]
  },
  {
   "cell_type": "code",
   "execution_count": 1,
   "id": "5b2aa716",
   "metadata": {
    "execution": {
     "iopub.execute_input": "2022-01-11T14:24:42.181219Z",
     "iopub.status.busy": "2022-01-11T14:24:42.180104Z",
     "iopub.status.idle": "2022-01-11T14:24:42.189302Z",
     "shell.execute_reply": "2022-01-11T14:24:42.188710Z",
     "shell.execute_reply.started": "2022-01-11T14:11:27.310236Z"
    },
    "papermill": {
     "duration": 0.045187,
     "end_time": "2022-01-11T14:24:42.189515",
     "exception": false,
     "start_time": "2022-01-11T14:24:42.144328",
     "status": "completed"
    },
    "tags": []
   },
   "outputs": [],
   "source": [
    "import numpy as np"
   ]
  },
  {
   "cell_type": "markdown",
   "id": "47a6ae62",
   "metadata": {
    "papermill": {
     "duration": 0.033603,
     "end_time": "2022-01-11T14:24:42.256507",
     "exception": false,
     "start_time": "2022-01-11T14:24:42.222904",
     "status": "completed"
    },
    "tags": []
   },
   "source": [
    "Blank array"
   ]
  },
  {
   "cell_type": "code",
   "execution_count": 2,
   "id": "8627bf2b",
   "metadata": {
    "execution": {
     "iopub.execute_input": "2022-01-11T14:24:42.332394Z",
     "iopub.status.busy": "2022-01-11T14:24:42.331725Z",
     "iopub.status.idle": "2022-01-11T14:24:42.334763Z",
     "shell.execute_reply": "2022-01-11T14:24:42.335379Z",
     "shell.execute_reply.started": "2022-01-11T14:11:27.321530Z"
    },
    "papermill": {
     "duration": 0.041585,
     "end_time": "2022-01-11T14:24:42.335536",
     "exception": false,
     "start_time": "2022-01-11T14:24:42.293951",
     "status": "completed"
    },
    "tags": []
   },
   "outputs": [
    {
     "name": "stdout",
     "output_type": "stream",
     "text": [
      "[]\n"
     ]
    }
   ],
   "source": [
    "array=np.empty(0)\n",
    "print(array)"
   ]
  },
  {
   "cell_type": "markdown",
   "id": "add174e0",
   "metadata": {
    "papermill": {
     "duration": 0.028807,
     "end_time": "2022-01-11T14:24:42.394496",
     "exception": false,
     "start_time": "2022-01-11T14:24:42.365689",
     "status": "completed"
    },
    "tags": []
   },
   "source": [
    "with predefined data"
   ]
  },
  {
   "cell_type": "code",
   "execution_count": 3,
   "id": "346f9fe6",
   "metadata": {
    "execution": {
     "iopub.execute_input": "2022-01-11T14:24:42.456054Z",
     "iopub.status.busy": "2022-01-11T14:24:42.455419Z",
     "iopub.status.idle": "2022-01-11T14:24:42.462177Z",
     "shell.execute_reply": "2022-01-11T14:24:42.462720Z",
     "shell.execute_reply.started": "2022-01-11T14:11:27.342145Z"
    },
    "papermill": {
     "duration": 0.03965,
     "end_time": "2022-01-11T14:24:42.462916",
     "exception": false,
     "start_time": "2022-01-11T14:24:42.423266",
     "status": "completed"
    },
    "tags": []
   },
   "outputs": [
    {
     "name": "stdout",
     "output_type": "stream",
     "text": [
      "[2 3 4]\n"
     ]
    }
   ],
   "source": [
    "array_pre=np.array([2,3,4])\n",
    "print(array_pre)"
   ]
  },
  {
   "cell_type": "markdown",
   "id": "7f17971d",
   "metadata": {
    "papermill": {
     "duration": 0.031014,
     "end_time": "2022-01-11T14:24:42.525275",
     "exception": false,
     "start_time": "2022-01-11T14:24:42.494261",
     "status": "completed"
    },
    "tags": []
   },
   "source": [
    "with pattern specific data"
   ]
  },
  {
   "cell_type": "code",
   "execution_count": 4,
   "id": "9914e9e0",
   "metadata": {
    "execution": {
     "iopub.execute_input": "2022-01-11T14:24:42.588039Z",
     "iopub.status.busy": "2022-01-11T14:24:42.587439Z",
     "iopub.status.idle": "2022-01-11T14:24:42.594285Z",
     "shell.execute_reply": "2022-01-11T14:24:42.593835Z",
     "shell.execute_reply.started": "2022-01-11T14:11:27.370433Z"
    },
    "papermill": {
     "duration": 0.0387,
     "end_time": "2022-01-11T14:24:42.594430",
     "exception": false,
     "start_time": "2022-01-11T14:24:42.555730",
     "status": "completed"
    },
    "tags": []
   },
   "outputs": [
    {
     "name": "stdout",
     "output_type": "stream",
     "text": [
      "[[1 1 1 1]\n",
      " [1 1 1 1]\n",
      " [1 1 1 1]]\n"
     ]
    }
   ],
   "source": [
    "array_one=np.ones( (3,4), dtype=np.int16 )  \n",
    "print(array_one)"
   ]
  },
  {
   "cell_type": "code",
   "execution_count": 5,
   "id": "18d63d14",
   "metadata": {
    "execution": {
     "iopub.execute_input": "2022-01-11T14:24:42.667619Z",
     "iopub.status.busy": "2022-01-11T14:24:42.666773Z",
     "iopub.status.idle": "2022-01-11T14:24:42.671999Z",
     "shell.execute_reply": "2022-01-11T14:24:42.672537Z",
     "shell.execute_reply.started": "2022-01-11T14:11:27.425790Z"
    },
    "papermill": {
     "duration": 0.04667,
     "end_time": "2022-01-11T14:24:42.672737",
     "exception": false,
     "start_time": "2022-01-11T14:24:42.626067",
     "status": "completed"
    },
    "tags": []
   },
   "outputs": [
    {
     "name": "stdout",
     "output_type": "stream",
     "text": [
      "[0.  0.3 0.6 0.9 1.2 1.5 1.8]\n"
     ]
    }
   ],
   "source": [
    "array_arange=np.arange( 0, 2, 0.3 )  \n",
    "print(array_arange)"
   ]
  },
  {
   "cell_type": "code",
   "execution_count": 6,
   "id": "3d5a398c",
   "metadata": {
    "execution": {
     "iopub.execute_input": "2022-01-11T14:24:42.748039Z",
     "iopub.status.busy": "2022-01-11T14:24:42.747124Z",
     "iopub.status.idle": "2022-01-11T14:24:42.750537Z",
     "shell.execute_reply": "2022-01-11T14:24:42.751188Z",
     "shell.execute_reply.started": "2022-01-11T14:11:27.462214Z"
    },
    "papermill": {
     "duration": 0.043191,
     "end_time": "2022-01-11T14:24:42.751496",
     "exception": false,
     "start_time": "2022-01-11T14:24:42.708305",
     "status": "completed"
    },
    "tags": []
   },
   "outputs": [
    {
     "name": "stdout",
     "output_type": "stream",
     "text": [
      "[[0.30954465 0.76080685 0.08037883]\n",
      " [0.3870983  0.66667798 0.38333453]]\n"
     ]
    }
   ],
   "source": [
    "array_random=np.random.rand(2,3)\n",
    "print(array_random)"
   ]
  },
  {
   "cell_type": "markdown",
   "id": "155eb19e",
   "metadata": {
    "papermill": {
     "duration": 0.031616,
     "end_time": "2022-01-11T14:24:42.814613",
     "exception": false,
     "start_time": "2022-01-11T14:24:42.782997",
     "status": "completed"
    },
    "tags": []
   },
   "source": [
    "Slicing"
   ]
  },
  {
   "cell_type": "code",
   "execution_count": 7,
   "id": "95e84a73",
   "metadata": {
    "execution": {
     "iopub.execute_input": "2022-01-11T14:24:42.888678Z",
     "iopub.status.busy": "2022-01-11T14:24:42.887584Z",
     "iopub.status.idle": "2022-01-11T14:24:42.890926Z",
     "shell.execute_reply": "2022-01-11T14:24:42.891439Z",
     "shell.execute_reply.started": "2022-01-11T14:11:27.474588Z"
    },
    "papermill": {
     "duration": 0.0445,
     "end_time": "2022-01-11T14:24:42.891604",
     "exception": false,
     "start_time": "2022-01-11T14:24:42.847104",
     "status": "completed"
    },
    "tags": []
   },
   "outputs": [
    {
     "name": "stdout",
     "output_type": "stream",
     "text": [
      "[ 1  2  3  4  5  6  7 62  9]\n",
      "[[ 1  2  3 16  5]\n",
      " [ 6  7  8  9 10]]\n",
      "[2 3 4 5 6 7]\n",
      "[ 3  4  5  6  7 62  9]\n",
      "[ 1  2  3  4  5  6  7 62  9]\n",
      "[ 7 62]\n",
      "[ 2  5 62]\n",
      "[7 8 9]\n"
     ]
    }
   ],
   "source": [
    "slice_array = np.array([1, 2, 3, 4, 5, 6, 7, 8, 9])\n",
    "slice_array_1 = np.array([[1, 2, 3, 4, 5], [6, 7, 8, 9, 10]])\n",
    "slice_array[7]=62\n",
    "slice_array_1[0,3]=16\n",
    "print(slice_array)\n",
    "print(slice_array_1)\n",
    "print(slice_array[1:7])\n",
    "print(slice_array[2:])\n",
    "print(slice_array[:12])\n",
    "print(slice_array[-3:-1])\n",
    "print(slice_array[1:8:3])\n",
    "print(slice_array_1[1, 1:4])"
   ]
  },
  {
   "cell_type": "markdown",
   "id": "f3a2fe80",
   "metadata": {
    "papermill": {
     "duration": 0.03182,
     "end_time": "2022-01-11T14:24:42.955460",
     "exception": false,
     "start_time": "2022-01-11T14:24:42.923640",
     "status": "completed"
    },
    "tags": []
   },
   "source": [
    "Shape manipulation"
   ]
  },
  {
   "cell_type": "code",
   "execution_count": 8,
   "id": "9d89e1b1",
   "metadata": {
    "execution": {
     "iopub.execute_input": "2022-01-11T14:24:43.024326Z",
     "iopub.status.busy": "2022-01-11T14:24:43.021644Z",
     "iopub.status.idle": "2022-01-11T14:24:43.029289Z",
     "shell.execute_reply": "2022-01-11T14:24:43.028759Z",
     "shell.execute_reply.started": "2022-01-11T14:11:27.491680Z"
    },
    "papermill": {
     "duration": 0.042047,
     "end_time": "2022-01-11T14:24:43.029451",
     "exception": false,
     "start_time": "2022-01-11T14:24:42.987404",
     "status": "completed"
    },
    "tags": []
   },
   "outputs": [
    {
     "name": "stdout",
     "output_type": "stream",
     "text": [
      "[0.84336224 0.64222155 0.87445282 0.79656005 0.45053672 0.55758312\n",
      " 0.5711644  0.26345514 0.45443452 0.13087534 0.74173258 0.06919156\n",
      " 0.81837963 0.27055124 0.42718973]\n",
      "[[0.84336224 0.64222155 0.87445282 0.79656005 0.45053672]\n",
      " [0.55758312 0.5711644  0.26345514 0.45443452 0.13087534]\n",
      " [0.74173258 0.06919156 0.81837963 0.27055124 0.42718973]]\n",
      "[[0.84336224 0.64222155 0.87445282 0.79656005 0.45053672]\n",
      " [0.55758312 0.5711644  0.26345514 0.45443452 0.13087534]\n",
      " [0.74173258 0.06919156 0.81837963 0.27055124 0.42718973]]\n"
     ]
    }
   ],
   "source": [
    "a=np.random.random((15))\n",
    "print(a)\n",
    "A=a.reshape(3,5)\n",
    "print(A)\n",
    "a.shape = (3, 5)\n",
    "print(a)"
   ]
  },
  {
   "cell_type": "markdown",
   "id": "debd1c53",
   "metadata": {
    "papermill": {
     "duration": 0.03497,
     "end_time": "2022-01-11T14:24:43.096124",
     "exception": false,
     "start_time": "2022-01-11T14:24:43.061154",
     "status": "completed"
    },
    "tags": []
   },
   "source": [
    "Looping over arrays"
   ]
  },
  {
   "cell_type": "code",
   "execution_count": 9,
   "id": "cdfac10b",
   "metadata": {
    "execution": {
     "iopub.execute_input": "2022-01-11T14:24:43.174237Z",
     "iopub.status.busy": "2022-01-11T14:24:43.173113Z",
     "iopub.status.idle": "2022-01-11T14:24:43.180128Z",
     "shell.execute_reply": "2022-01-11T14:24:43.179546Z",
     "shell.execute_reply.started": "2022-01-11T14:11:27.525213Z"
    },
    "papermill": {
     "duration": 0.047359,
     "end_time": "2022-01-11T14:24:43.180313",
     "exception": false,
     "start_time": "2022-01-11T14:24:43.132954",
     "status": "completed"
    },
    "tags": []
   },
   "outputs": [
    {
     "name": "stdout",
     "output_type": "stream",
     "text": [
      "1-dimension Array\n",
      "1\n",
      "2\n",
      "3\n",
      "4\n",
      "5\n",
      "6\n",
      "7\n",
      "62\n",
      "9\n",
      "2-dimension Array\n",
      "1\n",
      "2\n",
      "3\n",
      "16\n",
      "5\n",
      "6\n",
      "7\n",
      "8\n",
      "9\n",
      "10\n"
     ]
    }
   ],
   "source": [
    "print(\"1-dimension Array\")\n",
    "for x in slice_array:\n",
    "     print(x)\n",
    "print(\"2-dimension Array\")\n",
    "for x in slice_array_1:\n",
    "    for y in x:\n",
    "        print(y)"
   ]
  },
  {
   "cell_type": "markdown",
   "id": "1dd24673",
   "metadata": {
    "papermill": {
     "duration": 0.031927,
     "end_time": "2022-01-11T14:24:43.244613",
     "exception": false,
     "start_time": "2022-01-11T14:24:43.212686",
     "status": "completed"
    },
    "tags": []
   },
   "source": [
    "Reading File"
   ]
  },
  {
   "cell_type": "code",
   "execution_count": 10,
   "id": "29c4e35e",
   "metadata": {
    "execution": {
     "iopub.execute_input": "2022-01-11T14:24:43.313484Z",
     "iopub.status.busy": "2022-01-11T14:24:43.312879Z",
     "iopub.status.idle": "2022-01-11T14:24:43.331725Z",
     "shell.execute_reply": "2022-01-11T14:24:43.330911Z",
     "shell.execute_reply.started": "2022-01-11T14:11:27.544890Z"
    },
    "papermill": {
     "duration": 0.054639,
     "end_time": "2022-01-11T14:24:43.331897",
     "exception": false,
     "start_time": "2022-01-11T14:24:43.277258",
     "status": "completed"
    },
    "tags": []
   },
   "outputs": [
    {
     "name": "stdout",
     "output_type": "stream",
     "text": [
      "[[    nan     nan     nan]\n",
      " [  35.5  2767.       nan]\n",
      " [  35.5  1018.       nan]\n",
      " [  32.25 1475.       nan]\n",
      " [  30.44 1769.       nan]\n",
      " [  31.31 1691.       nan]\n",
      " [  37.88 1713.       nan]\n",
      " [  35.31 1381.       nan]\n",
      " [  34.69 2912.       nan]\n",
      " [  34.56 2367.       nan]\n",
      " [  34.75 1686.       nan]\n",
      " [  34.94 1392.       nan]\n",
      " [  35.   2029.       nan]\n",
      " [  35.06 2151.       nan]\n",
      " [  35.13 2070.       nan]\n",
      " [  35.13    0.       nan]\n",
      " [  35.19 1296.       nan]\n",
      " [  35.19 2225.       nan]\n",
      " [  35.19 2581.       nan]\n",
      " [  35.19 2780.       nan]\n",
      " [  35.19 2882.       nan]\n",
      " [  35.25 4095.       nan]\n",
      " [  35.25    0.       nan]\n",
      " [  35.88    0.       nan]\n",
      " [  36.19    0.       nan]\n",
      " [  36.31 4095.       nan]\n",
      " [  35.69 4095.       nan]\n",
      " [  35.63 3221.       nan]\n",
      " [  35.5  3367.       nan]\n",
      " [  35.44 3753.       nan]\n",
      " [  35.44 3917.       nan]\n",
      " [  35.38 4062.       nan]\n",
      " [  35.31 3263.       nan]\n",
      " [  35.31 3730.       nan]\n",
      " [  35.25 3412.       nan]\n",
      " [  35.25 3343.       nan]\n",
      " [  35.25 3506.       nan]\n",
      " [  35.25 3635.       nan]\n",
      " [  35.25 3601.       nan]\n",
      " [  32.5  3887.       nan]\n",
      " [  31.25 3733.       nan]\n",
      " [  31.75 4095.       nan]\n",
      " [  34.38 3847.       nan]\n",
      " [  32.19 3983.       nan]\n",
      " [  30.19 4095.       nan]\n",
      " [  30.62 3923.       nan]\n",
      " [  31.69 4058.       nan]\n",
      " [  32.38 2819.       nan]\n",
      " [  32.69 2983.       nan]\n",
      " [  33.   3113.       nan]\n",
      " [  33.25 3227.       nan]\n",
      " [  33.38 3265.       nan]\n",
      " [  33.75 4069.       nan]\n",
      " [  35.19 3967.       nan]\n",
      " [  36.   3855.       nan]\n",
      " [  35.56 4095.       nan]\n",
      " [  35.69 4095.       nan]\n",
      " [  35.81 4095.       nan]\n",
      " [  36.   4095.       nan]\n",
      " [  36.06 2727.       nan]\n",
      " [  36.06 2925.       nan]\n",
      " [  36.13 2850.       nan]\n",
      " [  36.13 2790.       nan]\n",
      " [  36.19 2730.       nan]\n",
      " [  36.13 2687.       nan]\n",
      " [  36.19 4095.       nan]\n",
      " [  36.19 3287.       nan]\n",
      " [  36.19 3310.       nan]\n",
      " [  41.44 1658.       nan]\n",
      " [  32.5  4095.       nan]\n",
      " [  34.56 4095.       nan]\n",
      " [  41.81 4095.       nan]\n",
      " [  33.63 4095.       nan]\n",
      " [  36.5  4095.       nan]\n",
      " [  35.25 4095.       nan]\n",
      " [  35.38 4095.       nan]\n",
      " [  35.69 4095.       nan]\n",
      " [  36.31 4095.       nan]\n",
      " [  36.69 4095.       nan]\n",
      " [  36.81 2769.       nan]\n",
      " [  36.94 2663.       nan]\n",
      " [  36.63 2775.       nan]\n",
      " [  36.31 2289.       nan]\n",
      " [  36.06 2941.       nan]\n",
      " [  35.94 4095.       nan]\n",
      " [  35.81 2032.       nan]\n",
      " [  35.75 1172.       nan]\n",
      " [  35.69 2817.       nan]\n",
      " [  35.69 2927.       nan]\n",
      " [  35.56 2928.       nan]\n",
      " [  35.56 2838.       nan]\n",
      " [  35.56 2742.       nan]\n",
      " [  35.5  2783.       nan]\n",
      " [  36.   2554.       nan]\n",
      " [  37.44 2940.       nan]\n",
      " [  31.81 2778.       nan]\n",
      " [  32.63 2364.       nan]\n",
      " [  33.38 4095.       nan]\n",
      " [  33.88 4095.       nan]\n",
      " [  33.94    0.       nan]\n",
      " [  35.88 4066.       nan]\n",
      " [  35.81 3127.       nan]\n",
      " [  35.63 2441.       nan]\n",
      " [  35.31 2375.       nan]\n",
      " [  35.19 2422.       nan]\n",
      " [  35.25 2449.       nan]\n",
      " [  35.19 2353.       nan]\n",
      " [  35.19 2287.       nan]\n",
      " [  35.06 2281.       nan]\n",
      " [  35.   2242.       nan]\n",
      " [  34.88 2144.       nan]\n",
      " [  34.81 2137.       nan]\n",
      " [  34.69 2108.       nan]\n",
      " [  34.63 1790.       nan]\n",
      " [  34.56 1931.       nan]\n",
      " [  34.38 1462.       nan]\n",
      " [  34.31 1751.       nan]\n",
      " [  34.25 1818.       nan]\n",
      " [  34.13 1595.       nan]\n",
      " [  34.   1765.       nan]\n",
      " [  29.37 1610.       nan]\n",
      " [  29.31 1237.       nan]\n",
      " [  30.69 1423.       nan]\n",
      " [  31.62 4095.       nan]\n",
      " [  32.25 2949.       nan]\n",
      " [  32.75 2634.       nan]\n",
      " [  33.06 3133.       nan]\n",
      " [  33.31 3660.       nan]\n",
      " [  33.44    0.       nan]\n",
      " [  33.81 2419.       nan]\n",
      " [  33.88 2305.       nan]\n",
      " [  34.06 2810.       nan]\n",
      " [  34.13 2869.       nan]\n",
      " [  34.13 2923.       nan]\n",
      " [  34.06 2834.       nan]\n",
      " [  33.25 2825.       nan]\n",
      " [  30.94 2768.       nan]\n",
      " [  30.81 2761.       nan]\n",
      " [  31.69 2762.       nan]\n",
      " [  32.44 2752.       nan]\n",
      " [  32.88 2775.       nan]\n",
      " [  33.19 2799.       nan]\n",
      " [  33.44 2790.       nan]\n",
      " [  33.5  2367.       nan]\n",
      " [  33.5  2631.       nan]\n",
      " [  33.5  2833.       nan]\n",
      " [  33.5  2928.       nan]\n",
      " [  33.56 2803.       nan]\n",
      " [  33.56 2390.       nan]\n",
      " [  30.19 2415.       nan]\n",
      " [  28.44 4095.       nan]\n",
      " [  28.75    0.       nan]\n",
      " [  30.75    0.       nan]\n",
      " [  32.69 2335.       nan]\n",
      " [  32.94 2368.       nan]\n",
      " [  33.13 2705.       nan]\n",
      " [  33.25 2879.       nan]]\n"
     ]
    }
   ],
   "source": [
    "from numpy import genfromtxt\n",
    "my_data = genfromtxt('../input/patient-temperature-and-pulse-rate/ffffinal.csv', delimiter=',')\n",
    "print(my_data)"
   ]
  },
  {
   "cell_type": "markdown",
   "id": "94513ddf",
   "metadata": {
    "papermill": {
     "duration": 0.031983,
     "end_time": "2022-01-11T14:24:43.397419",
     "exception": false,
     "start_time": "2022-01-11T14:24:43.365436",
     "status": "completed"
    },
    "tags": []
   },
   "source": [
    "Use numpy vs list for matrix multiplication of 1000 X 1000 array"
   ]
  },
  {
   "cell_type": "code",
   "execution_count": 11,
   "id": "9658c7f7",
   "metadata": {
    "execution": {
     "iopub.execute_input": "2022-01-11T14:24:43.496596Z",
     "iopub.status.busy": "2022-01-11T14:24:43.470791Z",
     "iopub.status.idle": "2022-01-11T14:24:44.172754Z",
     "shell.execute_reply": "2022-01-11T14:24:44.172183Z",
     "shell.execute_reply.started": "2022-01-11T14:11:27.605067Z"
    },
    "papermill": {
     "duration": 0.744319,
     "end_time": "2022-01-11T14:24:44.172895",
     "exception": false,
     "start_time": "2022-01-11T14:24:43.428576",
     "status": "completed"
    },
    "tags": []
   },
   "outputs": [
    {
     "name": "stdout",
     "output_type": "stream",
     "text": [
      "1.648721229963447\n",
      "Run time = 0.7025384902954102\n"
     ]
    }
   ],
   "source": [
    "import time\n",
    "\n",
    "start_time = time.time()\n",
    "\n",
    "num_multiplies = 5000000\n",
    "data = range(num_multiplies)\n",
    "number = 1\n",
    "\n",
    "for i in data:\n",
    "    number *= 1.0000001\n",
    "\n",
    "end_time = time.time()\n",
    "\n",
    "print(number)\n",
    "print(\"Run time = {}\".format(end_time - start_time))"
   ]
  },
  {
   "cell_type": "code",
   "execution_count": 12,
   "id": "552c31f5",
   "metadata": {
    "execution": {
     "iopub.execute_input": "2022-01-11T14:24:44.252916Z",
     "iopub.status.busy": "2022-01-11T14:24:44.252259Z",
     "iopub.status.idle": "2022-01-11T14:24:44.265772Z",
     "shell.execute_reply": "2022-01-11T14:24:44.266529Z",
     "shell.execute_reply.started": "2022-01-11T14:11:28.309277Z"
    },
    "papermill": {
     "duration": 0.056656,
     "end_time": "2022-01-11T14:24:44.266750",
     "exception": false,
     "start_time": "2022-01-11T14:24:44.210094",
     "status": "completed"
    },
    "tags": []
   },
   "outputs": [
    {
     "name": "stdout",
     "output_type": "stream",
     "text": [
      "Run time = 0.006282329559326172\n"
     ]
    }
   ],
   "source": [
    "import time\n",
    "import numpy as np\n",
    "\n",
    "start_time = time.time()\n",
    "\n",
    "data = np.ones(shape=(1000, 1000), dtype=\"float\")\n",
    "\n",
    "for i in range(5):\n",
    "    data *= 1.0000001\n",
    "\n",
    "end_time = time.time()\n",
    "\n",
    "print(\"Run time = {}\".format(end_time - start_time))"
   ]
  },
  {
   "cell_type": "markdown",
   "id": "6412f517",
   "metadata": {
    "papermill": {
     "duration": 0.033034,
     "end_time": "2022-01-11T14:24:44.340734",
     "exception": false,
     "start_time": "2022-01-11T14:24:44.307700",
     "status": "completed"
    },
    "tags": []
   },
   "source": [
    "# Pandas"
   ]
  },
  {
   "cell_type": "markdown",
   "id": "6a45c9a0",
   "metadata": {
    "papermill": {
     "duration": 0.033124,
     "end_time": "2022-01-11T14:24:44.405405",
     "exception": false,
     "start_time": "2022-01-11T14:24:44.372281",
     "status": "completed"
    },
    "tags": []
   },
   "source": [
    "Importing Pandas"
   ]
  },
  {
   "cell_type": "code",
   "execution_count": 13,
   "id": "75be71d2",
   "metadata": {
    "execution": {
     "iopub.execute_input": "2022-01-11T14:24:44.471804Z",
     "iopub.status.busy": "2022-01-11T14:24:44.471169Z",
     "iopub.status.idle": "2022-01-11T14:24:44.473889Z",
     "shell.execute_reply": "2022-01-11T14:24:44.474392Z",
     "shell.execute_reply.started": "2022-01-11T14:11:28.325321Z"
    },
    "papermill": {
     "duration": 0.03756,
     "end_time": "2022-01-11T14:24:44.474564",
     "exception": false,
     "start_time": "2022-01-11T14:24:44.437004",
     "status": "completed"
    },
    "tags": []
   },
   "outputs": [],
   "source": [
    "import pandas as pd\n"
   ]
  },
  {
   "cell_type": "markdown",
   "id": "37f7b3cc",
   "metadata": {
    "papermill": {
     "duration": 0.032554,
     "end_time": "2022-01-11T14:24:44.539105",
     "exception": false,
     "start_time": "2022-01-11T14:24:44.506551",
     "status": "completed"
    },
    "tags": []
   },
   "source": [
    "Create Dataframe"
   ]
  },
  {
   "cell_type": "code",
   "execution_count": 14,
   "id": "cd11299b",
   "metadata": {
    "execution": {
     "iopub.execute_input": "2022-01-11T14:24:44.606824Z",
     "iopub.status.busy": "2022-01-11T14:24:44.606214Z",
     "iopub.status.idle": "2022-01-11T14:24:44.618881Z",
     "shell.execute_reply": "2022-01-11T14:24:44.619400Z",
     "shell.execute_reply.started": "2022-01-11T14:11:28.331995Z"
    },
    "papermill": {
     "duration": 0.048044,
     "end_time": "2022-01-11T14:24:44.619556",
     "exception": false,
     "start_time": "2022-01-11T14:24:44.571512",
     "status": "completed"
    },
    "tags": []
   },
   "outputs": [
    {
     "name": "stdout",
     "output_type": "stream",
     "text": [
      "   calories  duration\n",
      "0       420        50\n",
      "1       380        40\n",
      "2       390        45\n"
     ]
    }
   ],
   "source": [
    "data = {\n",
    "  \"calories\": [420, 380, 390],\n",
    "  \"duration\": [50, 40, 45]\n",
    "}\n",
    "\n",
    "#load data into a DataFrame object:\n",
    "df = pd.DataFrame(data)\n",
    "\n",
    "print(df) "
   ]
  },
  {
   "cell_type": "markdown",
   "id": "06b0f203",
   "metadata": {
    "papermill": {
     "duration": 0.031988,
     "end_time": "2022-01-11T14:24:44.683965",
     "exception": false,
     "start_time": "2022-01-11T14:24:44.651977",
     "status": "completed"
    },
    "tags": []
   },
   "source": [
    "Read csv"
   ]
  },
  {
   "cell_type": "code",
   "execution_count": 15,
   "id": "efb79f5b",
   "metadata": {
    "execution": {
     "iopub.execute_input": "2022-01-11T14:24:44.754422Z",
     "iopub.status.busy": "2022-01-11T14:24:44.752387Z",
     "iopub.status.idle": "2022-01-11T14:24:44.767092Z",
     "shell.execute_reply": "2022-01-11T14:24:44.767786Z",
     "shell.execute_reply.started": "2022-01-11T14:11:28.354550Z"
    },
    "papermill": {
     "duration": 0.051304,
     "end_time": "2022-01-11T14:24:44.767996",
     "exception": false,
     "start_time": "2022-01-11T14:24:44.716692",
     "status": "completed"
    },
    "tags": []
   },
   "outputs": [
    {
     "name": "stdout",
     "output_type": "stream",
     "text": [
      "      Temp  Pulse       Time\n",
      "0    35.50   2767   17:43:24\n",
      "1    35.50   1018   17:43:40\n",
      "2    32.25   1475   17:43:55\n",
      "3    30.44   1769   17:44:18\n",
      "4    31.31   1691   17:44:34\n",
      "..     ...    ...        ...\n",
      "151  30.75      0   18:27:13\n",
      "152  32.69   2335   18:28:03\n",
      "153  32.94   2368   18:28:18\n",
      "154  33.13   2705   18:28:34\n",
      "155  33.25   2879   18:28:50\n",
      "\n",
      "[156 rows x 3 columns]\n"
     ]
    }
   ],
   "source": [
    "df = pd.read_csv('../input/patient-temperature-and-pulse-rate/ffffinal.csv')\n",
    "print(df)"
   ]
  },
  {
   "cell_type": "markdown",
   "id": "d5becddb",
   "metadata": {
    "papermill": {
     "duration": 0.033991,
     "end_time": "2022-01-11T14:24:44.836784",
     "exception": false,
     "start_time": "2022-01-11T14:24:44.802793",
     "status": "completed"
    },
    "tags": []
   },
   "source": [
    "Slicing"
   ]
  },
  {
   "cell_type": "code",
   "execution_count": 16,
   "id": "24ec0a2d",
   "metadata": {
    "execution": {
     "iopub.execute_input": "2022-01-11T14:24:44.914798Z",
     "iopub.status.busy": "2022-01-11T14:24:44.913615Z",
     "iopub.status.idle": "2022-01-11T14:24:44.916986Z",
     "shell.execute_reply": "2022-01-11T14:24:44.917431Z",
     "shell.execute_reply.started": "2022-01-11T14:11:28.374122Z"
    },
    "papermill": {
     "duration": 0.046268,
     "end_time": "2022-01-11T14:24:44.917598",
     "exception": false,
     "start_time": "2022-01-11T14:24:44.871330",
     "status": "completed"
    },
    "tags": []
   },
   "outputs": [
    {
     "name": "stdout",
     "output_type": "stream",
     "text": [
      "      Temp  Pulse\n",
      "0    35.50   2767\n",
      "1    35.50   1018\n",
      "2    32.25   1475\n",
      "3    30.44   1769\n",
      "4    31.31   1691\n",
      "..     ...    ...\n",
      "151  30.75      0\n",
      "152  32.69   2335\n",
      "153  32.94   2368\n",
      "154  33.13   2705\n",
      "155  33.25   2879\n",
      "\n",
      "[156 rows x 2 columns]\n"
     ]
    }
   ],
   "source": [
    "df1 = df.iloc[:,0:2]\n",
    "print(df1)"
   ]
  },
  {
   "cell_type": "markdown",
   "id": "8fe8895e",
   "metadata": {
    "papermill": {
     "duration": 0.034084,
     "end_time": "2022-01-11T14:24:44.985690",
     "exception": false,
     "start_time": "2022-01-11T14:24:44.951606",
     "status": "completed"
    },
    "tags": []
   },
   "source": [
    "Exporting data"
   ]
  },
  {
   "cell_type": "code",
   "execution_count": 17,
   "id": "fb80643a",
   "metadata": {
    "execution": {
     "iopub.execute_input": "2022-01-11T14:24:45.057641Z",
     "iopub.status.busy": "2022-01-11T14:24:45.056114Z",
     "iopub.status.idle": "2022-01-11T14:24:45.068966Z",
     "shell.execute_reply": "2022-01-11T14:24:45.069551Z",
     "shell.execute_reply.started": "2022-01-11T14:11:28.387710Z"
    },
    "papermill": {
     "duration": 0.049546,
     "end_time": "2022-01-11T14:24:45.069729",
     "exception": false,
     "start_time": "2022-01-11T14:24:45.020183",
     "status": "completed"
    },
    "tags": []
   },
   "outputs": [
    {
     "name": "stdout",
     "output_type": "stream",
     "text": [
      "     Unnamed: 0   Temp  Pulse\n",
      "0             0  35.50   2767\n",
      "1             1  35.50   1018\n",
      "2             2  32.25   1475\n",
      "3             3  30.44   1769\n",
      "4             4  31.31   1691\n",
      "..          ...    ...    ...\n",
      "151         151  30.75      0\n",
      "152         152  32.69   2335\n",
      "153         153  32.94   2368\n",
      "154         154  33.13   2705\n",
      "155         155  33.25   2879\n",
      "\n",
      "[156 rows x 3 columns]\n"
     ]
    }
   ],
   "source": [
    "df1.to_csv('file.csv')\n",
    "df2 = pd.read_csv('file.csv')\n",
    "print(df2)"
   ]
  },
  {
   "cell_type": "markdown",
   "id": "3b9feed5",
   "metadata": {
    "papermill": {
     "duration": 0.033459,
     "end_time": "2022-01-11T14:24:45.136469",
     "exception": false,
     "start_time": "2022-01-11T14:24:45.103010",
     "status": "completed"
    },
    "tags": []
   },
   "source": [
    "Use pandas for masking data and reading if in Boolean format"
   ]
  },
  {
   "cell_type": "code",
   "execution_count": 18,
   "id": "c00c57aa",
   "metadata": {
    "execution": {
     "iopub.execute_input": "2022-01-11T14:24:45.206132Z",
     "iopub.status.busy": "2022-01-11T14:24:45.205245Z",
     "iopub.status.idle": "2022-01-11T14:24:45.221278Z",
     "shell.execute_reply": "2022-01-11T14:24:45.221806Z",
     "shell.execute_reply.started": "2022-01-11T14:11:28.413858Z"
    },
    "papermill": {
     "duration": 0.052194,
     "end_time": "2022-01-11T14:24:45.221977",
     "exception": false,
     "start_time": "2022-01-11T14:24:45.169783",
     "status": "completed"
    },
    "tags": []
   },
   "outputs": [
    {
     "data": {
      "text/html": [
       "<div>\n",
       "<style scoped>\n",
       "    .dataframe tbody tr th:only-of-type {\n",
       "        vertical-align: middle;\n",
       "    }\n",
       "\n",
       "    .dataframe tbody tr th {\n",
       "        vertical-align: top;\n",
       "    }\n",
       "\n",
       "    .dataframe thead th {\n",
       "        text-align: right;\n",
       "    }\n",
       "</style>\n",
       "<table border=\"1\" class=\"dataframe\">\n",
       "  <thead>\n",
       "    <tr style=\"text-align: right;\">\n",
       "      <th></th>\n",
       "      <th>A</th>\n",
       "      <th>B</th>\n",
       "      <th>C</th>\n",
       "      <th>D</th>\n",
       "    </tr>\n",
       "  </thead>\n",
       "  <tbody>\n",
       "    <tr>\n",
       "      <th>0</th>\n",
       "      <td>12</td>\n",
       "      <td>5</td>\n",
       "      <td>-45</td>\n",
       "      <td>14</td>\n",
       "    </tr>\n",
       "    <tr>\n",
       "      <th>1</th>\n",
       "      <td>4</td>\n",
       "      <td>2</td>\n",
       "      <td>-45</td>\n",
       "      <td>3</td>\n",
       "    </tr>\n",
       "    <tr>\n",
       "      <th>2</th>\n",
       "      <td>5</td>\n",
       "      <td>-45</td>\n",
       "      <td>7</td>\n",
       "      <td>-45</td>\n",
       "    </tr>\n",
       "    <tr>\n",
       "      <th>3</th>\n",
       "      <td>-45</td>\n",
       "      <td>3</td>\n",
       "      <td>3</td>\n",
       "      <td>2</td>\n",
       "    </tr>\n",
       "    <tr>\n",
       "      <th>4</th>\n",
       "      <td>1</td>\n",
       "      <td>2</td>\n",
       "      <td>8</td>\n",
       "      <td>6</td>\n",
       "    </tr>\n",
       "  </tbody>\n",
       "</table>\n",
       "</div>"
      ],
      "text/plain": [
       "    A   B   C   D\n",
       "0  12   5 -45  14\n",
       "1   4   2 -45   3\n",
       "2   5 -45   7 -45\n",
       "3 -45   3   3   2\n",
       "4   1   2   8   6"
      ]
     },
     "execution_count": 18,
     "metadata": {},
     "output_type": "execute_result"
    }
   ],
   "source": [
    "\n",
    "df3 = pd.DataFrame({\"A\":[12, 4, 5, 44, 1],\n",
    "                   \"B\":[5, 2, 54, 3, 2],\n",
    "                   \"C\":[20, 16, 7, 3, 8],\n",
    "                   \"D\":[14, 3, 17, 2, 6]})\n",
    "df3.mask(df3 > 15, -45)"
   ]
  },
  {
   "cell_type": "markdown",
   "id": "e584f187",
   "metadata": {
    "papermill": {
     "duration": 0.034314,
     "end_time": "2022-01-11T14:24:45.289912",
     "exception": false,
     "start_time": "2022-01-11T14:24:45.255598",
     "status": "completed"
    },
    "tags": []
   },
   "source": [
    "# Matplotlib"
   ]
  },
  {
   "cell_type": "markdown",
   "id": "421d7c87",
   "metadata": {
    "papermill": {
     "duration": 0.033227,
     "end_time": "2022-01-11T14:24:45.356979",
     "exception": false,
     "start_time": "2022-01-11T14:24:45.323752",
     "status": "completed"
    },
    "tags": []
   },
   "source": [
    "Importing matplotlib"
   ]
  },
  {
   "cell_type": "code",
   "execution_count": 19,
   "id": "abc8c195",
   "metadata": {
    "execution": {
     "iopub.execute_input": "2022-01-11T14:24:45.427267Z",
     "iopub.status.busy": "2022-01-11T14:24:45.426305Z",
     "iopub.status.idle": "2022-01-11T14:24:45.429452Z",
     "shell.execute_reply": "2022-01-11T14:24:45.429988Z",
     "shell.execute_reply.started": "2022-01-11T14:11:28.436787Z"
    },
    "papermill": {
     "duration": 0.040221,
     "end_time": "2022-01-11T14:24:45.430147",
     "exception": false,
     "start_time": "2022-01-11T14:24:45.389926",
     "status": "completed"
    },
    "tags": []
   },
   "outputs": [],
   "source": [
    "import matplotlib.pyplot as plt"
   ]
  },
  {
   "cell_type": "markdown",
   "id": "612ea570",
   "metadata": {
    "papermill": {
     "duration": 0.033189,
     "end_time": "2022-01-11T14:24:45.496516",
     "exception": false,
     "start_time": "2022-01-11T14:24:45.463327",
     "status": "completed"
    },
    "tags": []
   },
   "source": [
    "Simple line chart"
   ]
  },
  {
   "cell_type": "code",
   "execution_count": 20,
   "id": "00ee5f07",
   "metadata": {
    "execution": {
     "iopub.execute_input": "2022-01-11T14:24:45.570711Z",
     "iopub.status.busy": "2022-01-11T14:24:45.565663Z",
     "iopub.status.idle": "2022-01-11T14:24:45.763960Z",
     "shell.execute_reply": "2022-01-11T14:24:45.763502Z",
     "shell.execute_reply.started": "2022-01-11T14:14:35.121375Z"
    },
    "papermill": {
     "duration": 0.234971,
     "end_time": "2022-01-11T14:24:45.764090",
     "exception": false,
     "start_time": "2022-01-11T14:24:45.529119",
     "status": "completed"
    },
    "tags": []
   },
   "outputs": [
    {
     "data": {
      "image/png": "[encoded data removed]",
      "text/plain": [
       "<Figure size 432x288 with 1 Axes>"
      ]
     },
     "metadata": {
      "needs_background": "light"
     },
     "output_type": "display_data"
    }
   ],
   "source": [
    "ypoints = np.array([3, 8, 1, 10])\n",
    "\n",
    "plt.plot(ypoints, linestyle = 'dotted')\n",
    "plt.show()"
   ]
  },
  {
   "cell_type": "markdown",
   "id": "697f23c1",
   "metadata": {
    "papermill": {
     "duration": 0.036209,
     "end_time": "2022-01-11T14:24:45.837491",
     "exception": false,
     "start_time": "2022-01-11T14:24:45.801282",
     "status": "completed"
    },
    "tags": []
   },
   "source": [
    "Correlation chart"
   ]
  },
  {
   "cell_type": "code",
   "execution_count": 21,
   "id": "d1b6360a",
   "metadata": {
    "execution": {
     "iopub.execute_input": "2022-01-11T14:24:45.912333Z",
     "iopub.status.busy": "2022-01-11T14:24:45.911693Z",
     "iopub.status.idle": "2022-01-11T14:24:46.234717Z",
     "shell.execute_reply": "2022-01-11T14:24:46.234270Z",
     "shell.execute_reply.started": "2022-01-11T14:19:47.430104Z"
    },
    "papermill": {
     "duration": 0.36079,
     "end_time": "2022-01-11T14:24:46.234844",
     "exception": false,
     "start_time": "2022-01-11T14:24:45.874054",
     "status": "completed"
    },
    "tags": []
   },
   "outputs": [
    {
     "data": {
      "text/plain": [
       "[<matplotlib.lines.Line2D at 0x7f0175d26ad0>]"
      ]
     },
     "execution_count": 21,
     "metadata": {},
     "output_type": "execute_result"
    },
    {
     "data": {
      "image/png": "[encoded data removed]",
      "text/plain": [
       "<Figure size 432x288 with 1 Axes>"
      ]
     },
     "metadata": {
      "needs_background": "light"
     },
     "output_type": "display_data"
    }
   ],
   "source": [
    "y = pd.Series([1, 2, 3, 4, 3, 5, 4])\n",
    "x = pd.Series([1, 2, 3, 4, 5, 6, 7])\n",
    "correlation = y.corr(x)\n",
    "plt.scatter(x, y)\n",
    "  \n",
    "# This will fit the best line into the graph\n",
    "plt.plot(np.unique(x), np.poly1d(np.polyfit(x, y, 1))\n",
    "         (np.unique(x)), color='red')"
   ]
  },
  {
   "cell_type": "markdown",
   "id": "24ffb3e6",
   "metadata": {
    "papermill": {
     "duration": 0.036098,
     "end_time": "2022-01-11T14:24:46.307368",
     "exception": false,
     "start_time": "2022-01-11T14:24:46.271270",
     "status": "completed"
    },
    "tags": []
   },
   "source": [
    "Histogram"
   ]
  },
  {
   "cell_type": "code",
   "execution_count": 22,
   "id": "9b3ac643",
   "metadata": {
    "execution": {
     "iopub.execute_input": "2022-01-11T14:24:46.396911Z",
     "iopub.status.busy": "2022-01-11T14:24:46.391868Z",
     "iopub.status.idle": "2022-01-11T14:24:46.568702Z",
     "shell.execute_reply": "2022-01-11T14:24:46.569170Z",
     "shell.execute_reply.started": "2022-01-11T14:20:35.823188Z"
    },
    "papermill": {
     "duration": 0.226428,
     "end_time": "2022-01-11T14:24:46.569339",
     "exception": false,
     "start_time": "2022-01-11T14:24:46.342911",
     "status": "completed"
    },
    "tags": []
   },
   "outputs": [
    {
     "data": {
      "image/png": "[encoded data removed]",
      "text/plain": [
       "<Figure size 432x288 with 1 Axes>"
      ]
     },
     "metadata": {
      "needs_background": "light"
     },
     "output_type": "display_data"
    }
   ],
   "source": [
    "x = np.random.normal(170, 10, 250)\n",
    "\n",
    "plt.hist(x)\n",
    "plt.show() "
   ]
  },
  {
   "cell_type": "markdown",
   "id": "4cabb349",
   "metadata": {
    "papermill": {
     "duration": 0.035254,
     "end_time": "2022-01-11T14:24:46.640612",
     "exception": false,
     "start_time": "2022-01-11T14:24:46.605358",
     "status": "completed"
    },
    "tags": []
   },
   "source": [
    "Plotting of Multivariate data"
   ]
  },
  {
   "cell_type": "code",
   "execution_count": 23,
   "id": "53dbe0c0",
   "metadata": {
    "execution": {
     "iopub.execute_input": "2022-01-11T14:24:46.730013Z",
     "iopub.status.busy": "2022-01-11T14:24:46.718868Z",
     "iopub.status.idle": "2022-01-11T14:24:46.960626Z",
     "shell.execute_reply": "2022-01-11T14:24:46.960102Z",
     "shell.execute_reply.started": "2022-01-11T14:23:12.577122Z"
    },
    "papermill": {
     "duration": 0.283809,
     "end_time": "2022-01-11T14:24:46.960761",
     "exception": false,
     "start_time": "2022-01-11T14:24:46.676952",
     "status": "completed"
    },
    "tags": []
   },
   "outputs": [
    {
     "data": {
      "image/png": "[encoded data removed]",
      "text/plain": [
       "<Figure size 432x288 with 2 Axes>"
      ]
     },
     "metadata": {
      "needs_background": "light"
     },
     "output_type": "display_data"
    }
   ],
   "source": [
    "np.random.seed(2)\n",
    "\n",
    "## generate a random data set\n",
    "x, y = np.random.randn(2, 30)\n",
    "y *= 100\n",
    "z = 11*x + 3.4*y - 4 + np.random.randn(30) ##the model\n",
    "\n",
    "fig, ax = plt.subplots()\n",
    "scat = ax.scatter(x, y, c=z, s=200, marker='o')\n",
    "fig.colorbar(scat)\n",
    "\n",
    "plt.show()"
   ]
  },
  {
   "cell_type": "markdown",
   "id": "6171f2d8",
   "metadata": {
    "papermill": {
     "duration": 0.037066,
     "end_time": "2022-01-11T14:24:47.035740",
     "exception": false,
     "start_time": "2022-01-11T14:24:46.998674",
     "status": "completed"
    },
    "tags": []
   },
   "source": [
    " Plot Pi Chart"
   ]
  },
  {
   "cell_type": "code",
   "execution_count": 24,
   "id": "1173c702",
   "metadata": {
    "execution": {
     "iopub.execute_input": "2022-01-11T14:24:47.115053Z",
     "iopub.status.busy": "2022-01-11T14:24:47.114446Z",
     "iopub.status.idle": "2022-01-11T14:24:47.186824Z",
     "shell.execute_reply": "2022-01-11T14:24:47.187742Z",
     "shell.execute_reply.started": "2022-01-11T14:23:51.215789Z"
    },
    "papermill": {
     "duration": 0.114693,
     "end_time": "2022-01-11T14:24:47.188018",
     "exception": false,
     "start_time": "2022-01-11T14:24:47.073325",
     "status": "completed"
    },
    "tags": []
   },
   "outputs": [
    {
     "data": {
      "image/png": "[encoded data removed]",
      "text/plain": [
       "<Figure size 432x288 with 1 Axes>"
      ]
     },
     "metadata": {},
     "output_type": "display_data"
    }
   ],
   "source": [
    "y = np.array([35, 25, 25, 15])\n",
    "\n",
    "plt.pie(y)\n",
    "plt.show() "
   ]
  },
  {
   "cell_type": "markdown",
   "id": "c7acf218",
   "metadata": {
    "papermill": {
     "duration": 0.049338,
     "end_time": "2022-01-11T14:24:47.308827",
     "exception": false,
     "start_time": "2022-01-11T14:24:47.259489",
     "status": "completed"
    },
    "tags": []
   },
   "source": [
    "**Thank You**"
   ]
  }
 ],
 "metadata": {
  "kernelspec": {
   "display_name": "Python 3",
   "language": "python",
   "name": "python3"
  },
  "language_info": {
   "codemirror_mode": {
    "name": "ipython",
    "version": 3
   },
   "file_extension": ".py",
   "mimetype": "text/x-python",
   "name": "python",
   "nbconvert_exporter": "python",
   "pygments_lexer": "ipython3",
   "version": "3.7.12"
  },
  "papermill": {
   "default_parameters": {},
   "duration": 14.680937,
   "end_time": "2022-01-11T14:24:47.956331",
   "environment_variables": {},
   "exception": null,
   "input_path": "__notebook__.ipynb",
   "output_path": "__notebook__.ipynb",
   "parameters": {},
   "start_time": "2022-01-11T14:24:33.275394",
   "version": "2.3.3"
  }
 },
 "nbformat": 4,
 "nbformat_minor": 5
}
